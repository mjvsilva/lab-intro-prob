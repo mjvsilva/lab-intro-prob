{
 "cells": [
  {
   "cell_type": "markdown",
   "metadata": {},
   "source": [
    "# Introduction To Probability\n",
    "## Challenge 1\n",
    "\n",
    "A and B are events of a probability space with $(\\omega, \\sigma, P)$ such that $P(A) = 0.3$, $P(B) = 0.6$ and $P(A \\cap B) = 0.1$\n",
    "\n",
    "Which of the following statements are false?\n",
    "* $P(A \\cup B) = 0.6$\n",
    "* $P(A \\cap B^{C}) = 0.2$\n",
    "* $P(A \\cap (B \\cup B^{C})) = 0.4$\n",
    "* $P(A^{C} \\cap B^{C}) = 0.3$\n",
    "* $P((A \\cap B)^{C}) = 0.9$"
   ]
  },
  {
   "cell_type": "markdown",
   "metadata": {},
   "source": [
    "The statements that are false are:\n",
    "\n",
    "$P(A \\cup B) = 0.6$<br>\n",
    "Because $P(A \\cup B) = P(A) + P(B) - P(A \\cap B) = 0.3 + 0.6 - 0.1 = 0.8$<br>\n",
    "<br>\n",
    "$P(A \\cap (B \\cup B^{C})) = 0.4$<br>\n",
    "Because $P(A \\cap (B \\cup B^{C})) = P(A \\cap \\omega) = P(A) = 0.3$<br>\n",
    "<br>\n",
    "$P(A^{C} \\cap B^{C}) = 0.3$<br>\n",
    "Because $P(A^{C} \\cap B^{C}) = P(A \\cup B) = 0.8$ (as calculated above)\n"
   ]
  },
  {
   "cell_type": "markdown",
   "metadata": {},
   "source": [
    "## Challenge 2\n",
    "There is a box with 10 white balls, 12 red balls and 8 black balls. Calculate the probability of:\n",
    "* Taking a white ball out.\n",
    "* Taking a white ball out after taking a black ball out.\n",
    "* Taking a red ball out after taking a black and a red ball out.\n",
    "* Taking a red ball out after taking a black and a red ball out with reposition.\n",
    "\n",
    "**Hint**: Reposition means putting back the ball into the box after taking it out."
   ]
  },
  {
   "cell_type": "markdown",
   "metadata": {},
   "source": [
    "\n",
    "P(\"taking a white ball\") = 10/30 $\\approx$ 0.33<br>\n",
    "P(\"taking a white ball after taking one black\") = 10/29 $\\approx$ 0.34<br>\n",
    "P(\"taking a red ball after taking one black and one red\") = 11/28 $\\approx$ 0.39<br>\n",
    "P(\"taking a red ball after taking one black and one red with reposition\") = 12/30 = 0.4<br>\n"
   ]
  },
  {
   "cell_type": "markdown",
   "metadata": {},
   "source": [
    "## Challenge 3\n",
    "\n",
    "You are planning to go on a picnic today but the morning is cloudy. You hate rain so you don't know whether to go out or stay home! To help you make a decision, you gather the following data about rainy days:\n",
    "\n",
    "* 50% of all rainy days start off cloudy!\n",
    "* Cloudy mornings are common. About 40% of days start cloudy. \n",
    "* This month is usually dry so only 3 of 30 days (10%) tend to be rainy. \n",
    "\n",
    "What is the chance of rain during the day?"
   ]
  },
  {
   "cell_type": "markdown",
   "metadata": {},
   "source": [
    "Events:<br>\n",
    "C = \"it is cloudy\"<br>\n",
    "R = \"it is raining\"<br>\n",
    "<br>\n",
    "We are given the following probabilities:<br>\n",
    "$P(C|R) = 0.5$<br>\n",
    "$P(C) = 0.4$<br>\n",
    "$P(R) = 0.1$<br>\n",
    "<br>\n",
    "The probability that we are looking for is:<br>\n",
    "$P(R|C) = ?$<br>\n",
    "<br>\n",
    "Applying Bayes's Law:<br>\n",
    "$P(R|C) = P(C|R)*P(R)/P(C)$<br>\n",
    "$P(R|C) = 0.5 * 0.1 / 0.4 = 0.125$<br>\n"
   ]
  },
  {
   "cell_type": "markdown",
   "metadata": {},
   "source": [
    "## Challenge 4\n",
    "\n",
    "One thousand people were asked through a telephone survey whether they thought more street lighting is needed at night or not.\n",
    "\n",
    "Out of the 480 men that answered the survey, 324 said yes and 156 said no. On the other hand, out of the 520 women that answered, 351 said yes and 169 said no. \n",
    "\n",
    "We wonder if men and women have a different opinions about the street lighting matter. Is gender relevant or irrelevant to the question?\n",
    "\n",
    "Consider the following events:\n",
    "- The answer is yes, so the person that answered thinks that more street lighting is needed.\n",
    "- The person who answered is a man.\n",
    "\n",
    "We want to know if these events are independent, that is, if the fact of wanting more light depends on whether one is male or female. Are these events independent or not?\n",
    "\n",
    "**Hint**: To clearly compare the answers by gender, it is best to place the data in a table."
   ]
  },
  {
   "cell_type": "code",
   "execution_count": null,
   "metadata": {},
   "outputs": [],
   "source": [
    "# your code here"
   ]
  },
  {
   "cell_type": "markdown",
   "metadata": {},
   "source": [
    "| Reply\\Gender | Male   | Female | Total  |\n",
    "| ------------:|:------:|:------:| ------ |\n",
    "| Yes          | 324    | 351    | 675    |\n",
    "| No           | 156    | 169    | 325    |\n",
    "|              |        |        |        |\n",
    "| Total        | 480    | 520    | 1000   |"
   ]
  },
  {
   "cell_type": "markdown",
   "metadata": {},
   "source": [
    "Events:<br>\n",
    "M = \"Is male\"<br>\n",
    "F = \"Is female\"<br>\n",
    "Y = \"Answered yes\"<br>\n",
    "N = \"Answered no\"<br>\n",
    "<br>\n",
    "The events are independent if<br>\n",
    "$P(M|Y)=P(M)$<br>\n",
    "<br>\n",
    "$P(M|Y) = P(M \\cap Y)/P(Y) = 0.324/0.675 = 0.480$<br>\n",
    "$P(M) = 0.480$<br>\n",
    "$P(M|Y)=P(M)$<br>\n",
    "<br>\n",
    "Also:<br>\n",
    "$P(Y|M) = P(Y \\cap M)/P(M) = 0.324/0.480 = 0.675$<br>\n",
    "$P(Y) = 0.675$<br>\n",
    "$P(Y|M)=P(Y)$<br>\n",
    "<br>\n",
    "We can conclude that the events are independent.\n"
   ]
  },
  {
   "cell_type": "code",
   "execution_count": null,
   "metadata": {},
   "outputs": [],
   "source": []
  }
 ],
 "metadata": {
  "kernelspec": {
   "display_name": "Python 3",
   "language": "python",
   "name": "python3"
  },
  "language_info": {
   "codemirror_mode": {
    "name": "ipython",
    "version": 3
   },
   "file_extension": ".py",
   "mimetype": "text/x-python",
   "name": "python",
   "nbconvert_exporter": "python",
   "pygments_lexer": "ipython3",
   "version": "3.7.4"
  }
 },
 "nbformat": 4,
 "nbformat_minor": 2
}
